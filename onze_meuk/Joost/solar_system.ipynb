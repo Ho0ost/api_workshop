{
 "cells": [
  {
   "cell_type": "code",
   "execution_count": 41,
   "metadata": {},
   "outputs": [],
   "source": [
    "import rebound\n",
    "import matplotlib.pyplot as plt\n",
    "import numpy as np"
   ]
  },
  {
   "cell_type": "code",
   "execution_count": 21,
   "metadata": {},
   "outputs": [],
   "source": [
    "sim = rebound.Simulation()\n",
    "rebound.data.add_solar_system(sim)\n"
   ]
  },
  {
   "cell_type": "code",
   "execution_count": 34,
   "metadata": {},
   "outputs": [
    {
     "name": "stdout",
     "output_type": "stream",
     "text": [
      "Searching NASA Horizons for 'Sun'... \n",
      "Found: Sun (10) \n",
      "Searching NASA Horizons for 'Mercury'... \n",
      "Found: Mercury Barycenter (199) (chosen from query 'Mercury')\n",
      "Searching NASA Horizons for 'Venus'... \n",
      "Found: Venus Barycenter (299) (chosen from query 'Venus')\n",
      "Searching NASA Horizons for 'Earth'... \n",
      "Found: Earth-Moon Barycenter (3) (chosen from query 'Earth')\n",
      "Searching NASA Horizons for 'Mars'... \n",
      "Found: Mars Barycenter (4) (chosen from query 'Mars')\n",
      "Searching NASA Horizons for 'Jupiter'... \n",
      "Found: Jupiter Barycenter (5) (chosen from query 'Jupiter')\n",
      "Searching NASA Horizons for 'Saturn'... \n",
      "Found: Saturn Barycenter (6) (chosen from query 'Saturn')\n",
      "Searching NASA Horizons for 'uranus'... \n",
      "Found: Uranus Barycenter (7) (chosen from query 'uranus')\n",
      "Searching NASA Horizons for 'Neptune'... \n",
      "Found: Neptune Barycenter (8) (chosen from query 'Neptune')\n",
      "Searching NASA Horizons for 'Pluto'... \n",
      "Found: Pluto Barycenter (9) (chosen from query 'Pluto')\n"
     ]
    }
   ],
   "source": [
    "sim = rebound.Simulation()\n",
    "sim.units = ('AU', 'yr', 'Msun')\n",
    "sim.add(\"Sun\")\n",
    "sim.add(\"Mercury\")\n",
    "sim.add(\"Venus\")\n",
    "sim.add(\"Earth\")\n",
    "sim.add(\"Mars\")\n",
    "sim.add(\"Jupiter\")\n",
    "sim.add(\"Saturn\")\n",
    "sim.add(\"uranus\")\n",
    "sim.add(\"Neptune\")\n",
    "sim.add(\"Pluto\")"
   ]
  },
  {
   "cell_type": "code",
   "execution_count": 36,
   "metadata": {},
   "outputs": [
    {
     "name": "stdout",
     "output_type": "stream",
     "text": [
      "---------------------------------\n",
      "REBOUND version:     \t3.19.1\n",
      "REBOUND built on:    \tJan 14 2022 11:24:53\n",
      "Number of particles: \t10\n",
      "Selected integrator: \twhfast\n",
      "Simulation time:     \t0.0000000000000000e+00\n",
      "Current timestep:    \t0.001000\n",
      "---------------------------------\n",
      "<rebound.particle.Particle object at 0x7fc1aa7eaac0, m=0.9999999999950272 x=-0.00863480577855091 y=0.0032071328601919013 z=0.00017546100545777087 vx=-0.0011600657467863054 vy=-0.003096690769748383 vz=5.1819174448343025e-05>\n",
      "<rebound.particle.Particle object at 0x7fc1aa7ea5c0, m=1.6601208254808336e-07 x=0.0063322996389274695 y=0.3102183941942773 z=0.023890959220686632 vx=-12.3263546485303 vy=0.872159955668336 vz=1.2021314707327442>\n",
      "<rebound.particle.Particle object at 0x7fc1aa7eaac0, m=2.447838287784771e-06 x=-0.3913288599969157 y=0.6105554372292016 z=0.030594298164963292 vx=-6.276672732566052 vy=-3.9823019638799266 vz=0.3075537059313323>\n",
      "<rebound.particle.Particle object at 0x7fc1aa7ea5c0, m=3.0404326489511185e-06 x=-0.45646834528031366 y=0.8791497307132347 z=0.00013477074886535106 vx=-5.69839148225845 vy=-2.8875303653395674 vz=0.00021736523835917053>\n",
      "<rebound.particle.Particle object at 0x7fc1aa7eaac0, m=3.2271560828978514e-07 x=-0.6666513884613713 y=-1.3615626303925388 z=-0.012285908480748408 vx=4.794860953137924 vy=-1.7842833071551587 vz=-0.15492362421010625>\n",
      "<rebound.particle.Particle object at 0x7fc1aa7ea5c0, m=0.0009547919099366768 x=4.6913377548822455 y=-1.6683619424472271 z=-0.09803532068648962 vx=0.8904974292386589 vy=2.7261925008251127 vz=-0.03123299791352963>\n",
      "<rebound.particle.Particle object at 0x7fc1aa7eaac0, m=0.0002858856700231729 x=7.0117873472801575 y=-6.998462646996559 z=-0.1574810393155849 vx=1.3254353676781798 vy=1.4380327918226803 vz=-0.07778343841541836>\n",
      "<rebound.particle.Particle object at 0x7fc1aa7ea5c0, m=4.366249613200406e-05 x=14.344026769439012 y=13.526420103118934 z=-0.13559191770133952 vx=-0.9961296892621136 vy=0.9782351188221783 vz=0.016538241353952314>\n",
      "<rebound.particle.Particle object at 0x7fc1aa7eaac0, m=5.151383772628957e-05 x=29.63139224104868 y=-4.035550830329417 z=-0.5997811281486434 vx=0.14713058181033917 vy=1.1428843711363592 vz=-0.026926195016277306>\n",
      "<rebound.particle.Particle object at 0x7fc1aa7ea5c0, m=7.350478973122079e-09 x=15.16602907218574 y=-30.900060061843543 z=-1.0804240897984072 vx=1.0570601189506483 vy=0.25728054818002816 vz=-0.3332962627775065>\n",
      "---------------------------------\n"
     ]
    }
   ],
   "source": [
    "sim.integrator = \"whfast\"\n",
    "sim.status()"
   ]
  },
  {
   "cell_type": "code",
   "execution_count": null,
   "metadata": {},
   "outputs": [],
   "source": [
    "#w = sim.getWidget(size=(500,500))\n",
    "#w\n"
   ]
  },
  {
   "cell_type": "code",
   "execution_count": 42,
   "metadata": {},
   "outputs": [
    {
     "data": {
      "image/png": "[encoded data removed]",
      "text/plain": [
       "<Figure size 360x360 with 1 Axes>"
      ]
     },
     "metadata": {
      "needs_background": "light"
     },
     "output_type": "display_data"
    }
   ],
   "source": [
    "%matplotlib inline\n",
    "fig, ax = rebound.OrbitPlot(sim)"
   ]
  },
  {
   "cell_type": "code",
   "execution_count": 37,
   "metadata": {},
   "outputs": [
    {
     "name": "stderr",
     "output_type": "stream",
     "text": [
      "/home/joost/.local/lib/python3.8/site-packages/rebound/simulation.py:712: RuntimeWarning: WHFast convergence issue. Timestep is larger than at least one orbital period.\n",
      "  warnings.warn(msg[1:], RuntimeWarning)\n"
     ]
    }
   ],
   "source": [
    "sim.integrate(-20000)"
   ]
  }
 ],
 "metadata": {
  "interpreter": {
   "hash": "916dbcbb3f70747c44a77c7bcd40155683ae19c65e1c03b4aa3499c5328201f1"
  },
  "kernelspec": {
   "display_name": "Python 3.8.10 64-bit",
   "language": "python",
   "name": "python3"
  },
  "language_info": {
   "codemirror_mode": {
    "name": "ipython",
    "version": 3
   },
   "file_extension": ".py",
   "mimetype": "text/x-python",
   "name": "python",
   "nbconvert_exporter": "python",
   "pygments_lexer": "ipython3",
   "version": "3.8.10"
  },
  "orig_nbformat": 4
 },
 "nbformat": 4,
 "nbformat_minor": 2
}
