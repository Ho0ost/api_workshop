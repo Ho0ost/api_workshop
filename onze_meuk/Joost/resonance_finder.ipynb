{
 "cells": [
  {
   "cell_type": "code",
   "execution_count": 2,
   "metadata": {},
   "outputs": [],
   "source": [
    "from IPython.display import clear_output\n",
    "import rebound\n",
    "import matplotlib.pyplot as plt\n",
    "import numpy as np\n",
    "import random"
   ]
  },
  {
   "cell_type": "code",
   "execution_count": 3,
   "metadata": {},
   "outputs": [
    {
     "name": "stdout",
     "output_type": "stream",
     "text": [
      "0.995\n",
      "0.17343011648492768\n"
     ]
    }
   ],
   "source": [
    "sim = rebound.Simulation()\n",
    "#sim.units = ('AU', 'yr', 'Msun')\n",
    "sim.add(m=1)\n",
    "sim.add(m=0.0009547919099366768, x=4.700873257350307, y=-1.638871658756794, z=-0.09837100227914734, vx=0.1391574941369194, vy=0.4348006080824522, vz=-0.004917193679728236)\n",
    "sim.move_to_com()\n",
    "sim.integrator = \"whfast\"\n",
    "sim.dt = .01\n",
    "simtime = 100\n",
    "exit_max_distance = 10\n",
    "\n",
    "delta_a_list = []\n",
    "orbit_list = []\n",
    "rings = 200\n",
    "as_per_ring = 1\n",
    "for i in range (rings):\n",
    "\n",
    "    for j in range (as_per_ring):\n",
    "        a_list = []\n",
    "        # create sim with sun and jupiter\n",
    "        \n",
    "        clear_output(wait=True)\n",
    "        print(i/rings)\n",
    "\n",
    "        # create astroid\n",
    "        mass = 1e-29\n",
    "        radius = 2.400+0.001*i\n",
    "        # res on 2.502\n",
    "\n",
    "        omega =(2*np.pi)/as_per_ring*i\n",
    "        ecc = 0.2*random.random()\n",
    "\n",
    "        sim.add(m=mass,a=radius,omega=omega, e=ecc)\n",
    "        for years in range(simtime):\n",
    "\n",
    "            \n",
    "            sim.integrate(float(years)*2.*np.pi)  \n",
    "            a_list.append(sim.particles[2].a)\n",
    "\n",
    "\n",
    "            #sim.integrate(years*2*np.pi)\n",
    "            \n",
    "        sim.remove(2)\n",
    "        print(max(a_list)-min(a_list))\n",
    "        delta_a_list.append(max(a_list)-min(a_list))\n",
    "        orbit_list.append(radius)"
   ]
  },
  {
   "cell_type": "code",
   "execution_count": 4,
   "metadata": {},
   "outputs": [
    {
     "data": {
      "image/png": "[encoded data removed]",
      "text/plain": [
       "<Figure size 432x288 with 1 Axes>"
      ]
     },
     "metadata": {
      "needs_background": "light"
     },
     "output_type": "display_data"
    }
   ],
   "source": [
    "\n",
    "plt.plot(orbit_list,delta_a_list)\n",
    "plt.show()"
   ]
  },
  {
   "cell_type": "code",
   "execution_count": 5,
   "metadata": {},
   "outputs": [
    {
     "name": "stdout",
     "output_type": "stream",
     "text": [
      "2.4299999999999997\n",
      "765.4966414360224\n"
     ]
    }
   ],
   "source": [
    "max_index = delta_a_list.index(max(delta_a_list))\n",
    "print(orbit_list[max_index])\n",
    "print(max(delta_a_list))"
   ]
  },
  {
   "cell_type": "code",
   "execution_count": 6,
   "metadata": {},
   "outputs": [
    {
     "data": {
      "image/png": "[encoded data removed]",
      "text/plain": [
       "<Figure size 360x360 with 1 Axes>"
      ]
     },
     "metadata": {
      "needs_background": "light"
     },
     "output_type": "display_data"
    }
   ],
   "source": [
    "fig, ax = rebound.OrbitPlot(sim, orbit_type=None)"
   ]
  }
 ],
 "metadata": {
  "interpreter": {
   "hash": "916dbcbb3f70747c44a77c7bcd40155683ae19c65e1c03b4aa3499c5328201f1"
  },
  "kernelspec": {
   "display_name": "Python 3.8.10 64-bit",
   "language": "python",
   "name": "python3"
  },
  "language_info": {
   "codemirror_mode": {
    "name": "ipython",
    "version": 3
   },
   "file_extension": ".py",
   "mimetype": "text/x-python",
   "name": "python",
   "nbconvert_exporter": "python",
   "pygments_lexer": "ipython3",
   "version": "3.8.10"
  },
  "orig_nbformat": 4
 },
 "nbformat": 4,
 "nbformat_minor": 2
}
