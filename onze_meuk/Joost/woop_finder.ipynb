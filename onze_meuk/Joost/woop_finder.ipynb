{
 "cells": [
  {
   "cell_type": "code",
   "execution_count": 1,
   "metadata": {},
   "outputs": [],
   "source": [
    "from IPython.display import clear_output\n",
    "import rebound\n",
    "import matplotlib.pyplot as plt\n",
    "import numpy as np\n",
    "import random\n",
    "import csv\n",
    "import pandas as pd"
   ]
  },
  {
   "cell_type": "code",
   "execution_count": 2,
   "metadata": {},
   "outputs": [
    {
     "name": "stdout",
     "output_type": "stream",
     "text": [
      "2168\n",
      "a 2.515456864170004\n",
      "ecc 0.1703818276460499\n",
      "omega 3.5644092404577585\n",
      "final ecc 1.0083022575070764\n",
      "final a -21.138600162539003\n",
      "1\n",
      "a 2.5332663216642\n",
      "ecc 0.1954685406828268\n",
      "omega 3.32533476556285\n",
      "final ecc 1.0265572484415122\n",
      "final a -6.920046341006019\n",
      "2\n",
      "a 2.497065503988751\n",
      "ecc 0.1536766588739766\n",
      "omega 0.9809321722636394\n",
      "final ecc 1.0093146688684798\n",
      "final a -20.887159033817227\n",
      "3\n",
      "a 2.524267642447256\n",
      "ecc 0.1762469157271206\n",
      "omega 3.579123300793305\n",
      "final ecc 1.0039748119257996\n",
      "final a -48.87583798592205\n",
      "4\n",
      "a 2.5035826168030546\n",
      "ecc 0.1052609639609435\n",
      "omega 1.6070288307060268\n",
      "final ecc 0.9388243485016998\n",
      "final a 5.6798333578622975\n",
      "5\n",
      "a 2.5365026181379964\n",
      "ecc 0.1632758373398012\n",
      "omega 2.844897509273039\n",
      "final ecc 1.009493129418333\n",
      "final a -17.056175880061804\n",
      "6\n",
      "a 2.5322565406157764\n",
      "ecc 0.1539181086312432\n",
      "omega 3.0199787841741177\n",
      "final ecc 3.407068074294867\n",
      "final a -1.9937321620145825\n",
      "7\n",
      "a 2.501994022687975\n",
      "ecc 0.1833012846258365\n",
      "omega 5.0099649032226194\n",
      "final ecc 1.019755845735042\n",
      "final a -8.614148893980017\n",
      "8\n",
      "a 2.496096173557189\n",
      "ecc 0.1993556825679887\n",
      "omega 4.395685709863142\n",
      "final ecc 1.0140985856909406\n",
      "final a -12.082845778011768\n",
      "9\n"
     ]
    },
    {
     "data": {
      "image/png": "[encoded data removed]",
      "text/plain": [
       "<Figure size 432x288 with 1 Axes>"
      ]
     },
     "metadata": {
      "needs_background": "light"
     },
     "output_type": "display_data"
    }
   ],
   "source": [
    "#data= pd.read_csv(\"sim.csv\")\n",
    "data_final_a = pd.read_csv('data_base.csv', usecols= ['final a'])\n",
    "data_final_e = pd.read_csv('data_base.csv', usecols= ['final ecc'])\n",
    "data = pd.read_csv('data_base.csv')\n",
    "\n",
    "data.plot.scatter(x=\"final a\",y=\"final ecc\",xlim=(2.45,2.55))\n",
    "\n",
    "print(len(data))\n",
    "cnt = 0\n",
    "for i in range(len(data)):\n",
    "    if(data.iloc[i][\"final ecc\"])>0.9:\n",
    "        cnt+=1\n",
    "        print(\"a\",data.iloc[i][\"start a\"])\n",
    "        print(\"ecc\",data.iloc[i][\"start ecc\"])\n",
    "        print(\"omega\",data.iloc[i][\"start omega\"])\n",
    "        print(\"final ecc\",data.iloc[i][\"final ecc\"])\n",
    "        print(\"final a\",data.iloc[i][\"final a\"])\n",
    "        print(cnt)\n",
    "\n",
    "    # if((data_final_a.iloc[i])> 2.5):\n",
    "    #     print(\"swagggg\")\n",
    "\n",
    "\n",
    "#plt.plot(data_final_e[1:],data_final_a[1:])\n",
    "#plt.show()\n"
   ]
  }
 ],
 "metadata": {
  "interpreter": {
   "hash": "916dbcbb3f70747c44a77c7bcd40155683ae19c65e1c03b4aa3499c5328201f1"
  },
  "kernelspec": {
   "display_name": "Python 3.8.10 64-bit",
   "language": "python",
   "name": "python3"
  },
  "language_info": {
   "codemirror_mode": {
    "name": "ipython",
    "version": 3
   },
   "file_extension": ".py",
   "mimetype": "text/x-python",
   "name": "python",
   "nbconvert_exporter": "python",
   "pygments_lexer": "ipython3",
   "version": "3.8.10"
  },
  "orig_nbformat": 4
 },
 "nbformat": 4,
 "nbformat_minor": 2
}
