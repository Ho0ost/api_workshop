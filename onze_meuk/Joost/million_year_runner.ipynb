{
 "cells": [
  {
   "cell_type": "code",
   "execution_count": 2,
   "metadata": {},
   "outputs": [],
   "source": [
    "from IPython.display import clear_output\n",
    "import rebound\n",
    "import matplotlib.pyplot as plt\n",
    "import numpy as np\n",
    "import random\n",
    "import csv\n"
   ]
  },
  {
   "cell_type": "code",
   "execution_count": 8,
   "metadata": {},
   "outputs": [
    {
     "name": "stdout",
     "output_type": "stream",
     "text": [
      "99.0\n"
     ]
    }
   ],
   "source": [
    "sim = rebound.Simulation()\n",
    "\n",
    "# add sun\n",
    "sim.move_to_com()\n",
    "sim.integrator = \"whfast\"\n",
    "sim.dt = .1\n",
    "simtime = 1e1\n",
    "\n",
    "starting_a = 0\n",
    "starting_e = 0\n",
    "final_a = 0\n",
    "final_e = 0\n",
    "\n",
    "\n",
    "# create astroid\n",
    "mass = 1e-29\n",
    "#radius = 2.495+(0.001*i)\n",
    "radius = 2.4+(0.2*random.random())\n",
    "\n",
    "# res on 2.502\n",
    "\n",
    "#omega =((2*np.pi)/as_per_ring)*j\n",
    "omega =(2*np.pi)*random.random()\n",
    "#omega = 0.5*np.pi\n",
    "ecc = 0.2*random.random()\n",
    "#ecc = 0\n",
    "    \n",
    "# add sun\n",
    "sim.add(m=1)\n",
    "# add mars\n",
    "sim.add(m=3.2271560828978514e-07, a= 1.524, omega = 0.5*np.pi)\n",
    "# add jupiter\n",
    "sim.add(m=0.0009547919099366768, a = 5.204, omega = 1.5*np.pi)\n",
    "# add astroid\n",
    "sim.add(m=mass,a=radius,omega=omega, e=ecc)\n",
    "\n",
    "starting_a = radius\n",
    "starting_e = ecc\n",
    "\n",
    "for i in range (int(simtime*(1/sim.dt))):\n",
    "    clear_output(wait=True)\n",
    "    print(i/simtime*(1/sim.dt))\n",
    "    sim.step()\n",
    "\n",
    "    \n",
    "final_a = (sim.particles[3].a)\n",
    "final_e = (sim.particles[3].e)\n",
    "\n",
    "\n",
    "\n",
    "with open('sim.csv', 'a') as f1:\n",
    "      \n",
    "    # using csv.writer method from CSV package\n",
    "    write = csv.writer(f1)\n",
    "    #write.writerow([\"start axis\",\"final axis\", \"start ecc\", \"final ecc\"])\n",
    "    write.writerow([starting_a,final_a,starting_e,final_e])\n",
    "\n",
    "\n",
    "# with open('final_a_list.csv', 'w') as f2:\n",
    "      \n",
    "#     # using csv.writer method from CSV package\n",
    "#     write = csv.writer(f2)\n",
    "#     write.writerow([\"final_a_list\"])\n",
    "#     write.writerows([final_a_list])\n"
   ]
  },
  {
   "cell_type": "code",
   "execution_count": null,
   "metadata": {},
   "outputs": [],
   "source": [
    "plt.plot([starting_a],[starting_e],\"ro\")\n",
    "plt.plot([final_a],[final_e],\"bo\")\n",
    "plt.show()"
   ]
  }
 ],
 "metadata": {
  "interpreter": {
   "hash": "916dbcbb3f70747c44a77c7bcd40155683ae19c65e1c03b4aa3499c5328201f1"
  },
  "kernelspec": {
   "display_name": "Python 3.8.10 64-bit",
   "language": "python",
   "name": "python3"
  },
  "language_info": {
   "codemirror_mode": {
    "name": "ipython",
    "version": 3
   },
   "file_extension": ".py",
   "mimetype": "text/x-python",
   "name": "python",
   "nbconvert_exporter": "python",
   "pygments_lexer": "ipython3",
   "version": "3.8.10"
  },
  "orig_nbformat": 4
 },
 "nbformat": 4,
 "nbformat_minor": 2
}
