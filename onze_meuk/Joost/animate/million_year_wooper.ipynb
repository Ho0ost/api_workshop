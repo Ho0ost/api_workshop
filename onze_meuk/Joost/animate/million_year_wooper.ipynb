{
 "cells": [
  {
   "cell_type": "code",
   "execution_count": 2,
   "metadata": {},
   "outputs": [],
   "source": [
    "from IPython.display import clear_output\n",
    "import rebound\n",
    "import matplotlib.pyplot as plt\n",
    "import numpy as np\n",
    "import random\n",
    "import csv\n",
    "import pandas as pd\n",
    "import matplotlib\n"
   ]
  },
  {
   "cell_type": "code",
   "execution_count": 3,
   "metadata": {},
   "outputs": [],
   "source": [
    "# wooeeper\n",
    "a_start = 2.515456864170004\n",
    "e_start = 0.1703818276460499\n",
    "omega_start = 3.5644092404577585\n"
   ]
  },
  {
   "cell_type": "code",
   "execution_count": 5,
   "metadata": {},
   "outputs": [],
   "source": [
    "\n",
    "sim = rebound.Simulation()\n",
    "\n",
    "# add sun\n",
    "sim.move_to_com()\n",
    "sim.integrator = \"whfast\"\n",
    "sim.dt = .1\n",
    "\n",
    "starting_a = 0.\n",
    "starting_e = 0.\n",
    "final_a = 0.\n",
    "final_e = 0.\n",
    "\n",
    "mass = 1e-29\n",
    "radius = a_start\n",
    "omega = omega_start\n",
    "ecc = e_start\n",
    "    \n",
    "# sun\n",
    "sim.add(m=0.9999999999950272, x=-0.008669035216216899, y=0.0031140563797133693, z=0.00017700903203290386, vx=-0.00017842972567085554, vy=-0.0004942109647718484, vz=8.170411607613112e-06)\n",
    "# jupiter\n",
    "sim.add(m=0.0009547919099366768, x=4.717393707823112, y=-1.58629315260585, z=-0.0989587433278056, vx=0.13456873359546767, vy=0.4363713717691052, vz=-0.004821057409397645)\n",
    "# mars\n",
    "sim.add(m=3.2271560828978514e-07, x=-0.5195763051075928, y=-1.4079912951728626, z=-0.016864026009610615, vx=0.7953007114278168, vy=-0.2075756016137399, vz=-0.023844826829689417)\n",
    "# add astroid\n",
    "sim.add(m=mass,a=radius,omega=omega, e=ecc)\n",
    "\n"
   ]
  },
  {
   "cell_type": "code",
   "execution_count": 132,
   "metadata": {},
   "outputs": [
    {
     "name": "stdout",
     "output_type": "stream",
     "text": [
      "682434.4\n"
     ]
    }
   ],
   "source": [
    "cnt = 0\n",
    "while True:\n",
    "    sim.step()\n",
    "    if (sim.particles[3].e>1):\n",
    "        print(cnt/10)\n",
    "        break\n",
    "    cnt +=1"
   ]
  },
  {
   "cell_type": "code",
   "execution_count": 6,
   "metadata": {},
   "outputs": [
    {
     "name": "stdout",
     "output_type": "stream",
     "text": [
      "0.741\n"
     ]
    }
   ],
   "source": [
    "\n",
    "# # # # first part (progress not saved)\n",
    "# #years = 300000+138000\n",
    "# years = 600000\n",
    "# for i in range (int(years*(1/sim.dt))):\n",
    "#     sim.step()\n",
    "    \n",
    "\n",
    "# yeet part\n",
    "years = 700000\n",
    "#years = 200000\n",
    "\n",
    "a_list = []\n",
    "time_list = []\n",
    "e_list = []\n",
    "\n",
    "jupiter_distance_list = []\n",
    "mars_distance_list = []\n",
    "\n",
    "save_rate = 1000\n",
    "\n",
    "print_shit = int(years*(1/sim.dt)/save_rate)\n",
    "print(print_shit)\n",
    "\n",
    "for j in range (save_rate):\n",
    "    clear_output(wait=True)\n",
    "    print(j/(save_rate))\n",
    "    for i in range (int(years*(1/sim.dt)/save_rate)):\n",
    "                    \n",
    "        sim.step()\n",
    "        # second part\n",
    "        a_list.append(sim.particles[3].a)\n",
    "        e_list.append(sim.particles[3].e)\n",
    "        time_list.append(((j*print_shit)+i)/10)\n",
    "\n",
    "        jupiter_distance_list.append(np.sqrt((sim.particles[1].x-sim.particles[3].x)**2+(sim.particles[1].y-sim.particles[3].y)**2+(sim.particles[1].z-sim.particles[3].z)**2))\n",
    "        mars_distance_list.append(np.sqrt((sim.particles[2].x-sim.particles[3].x)**2+(sim.particles[2].y-sim.particles[3].y)**2+(sim.particles[2].z-sim.particles[3].z)**2))\n",
    "\n",
    "        \n",
    "    #fig = rebound.OrbitPlot(sim)\n",
    "    #plt.savefig('animate_save/plot_{}.png'.format(j))\n",
    "\n",
    "        \n"
   ]
  },
  {
   "cell_type": "code",
   "execution_count": 330,
   "metadata": {},
   "outputs": [],
   "source": [
    "years = 10\n",
    "start_yr = max(time_list)\n",
    "for i in range (years*10):\n",
    "    sim.step()\n",
    "    a_list.append(sim.particles[3].a)\n",
    "    e_list.append(sim.particles[3].e)\n",
    "    time_list.append(start_yr+((i)/10))\n",
    "\n",
    "    jupiter_distance_list.append(np.sqrt((sim.particles[1].x-sim.particles[3].x)**2+(sim.particles[1].y-sim.particles[3].y)**2+(sim.particles[1].z-sim.particles[3].z)**2))\n",
    "    mars_distance_list.append(np.sqrt((sim.particles[2].x-sim.particles[3].x)**2+(sim.particles[2].y-sim.particles[3].y)**2+(sim.particles[2].z-sim.particles[3].z)**2))\n"
   ]
  },
  {
   "cell_type": "code",
   "execution_count": 269,
   "metadata": {},
   "outputs": [],
   "source": [
    "sim.step()"
   ]
  },
  {
   "cell_type": "code",
   "execution_count": 334,
   "metadata": {},
   "outputs": [
    {
     "name": "stdout",
     "output_type": "stream",
     "text": [
      "1.0083022576616405\n"
     ]
    },
    {
     "data": {
      "image/png": "[encoded data removed]",
      "text/plain": [
       "<Figure size 360x360 with 1 Axes>"
      ]
     },
     "metadata": {
      "needs_background": "light"
     },
     "output_type": "display_data"
    }
   ],
   "source": [
    "\n",
    "fig = rebound.OrbitPlot(sim)\n",
    "#plt.xlabel(\"AU\")\n",
    "print(sim.particles[3].e)\n"
   ]
  },
  {
   "cell_type": "code",
   "execution_count": 7,
   "metadata": {},
   "outputs": [
    {
     "data": {
      "image/png": "[encoded data removed]",
      "text/plain": [
       "<Figure size 432x288 with 1 Axes>"
      ]
     },
     "metadata": {
      "needs_background": "light"
     },
     "output_type": "display_data"
    },
    {
     "name": "stdout",
     "output_type": "stream",
     "text": [
      "closed distance to mars: 0.003850787421730898\n",
      "closed distance to jupiter: 0.06796902591760114\n",
      "682286\n"
     ]
    }
   ],
   "source": [
    "\n",
    "mars_min_dist = min(mars_distance_list)\n",
    "mars_index = int(mars_distance_list.index(mars_min_dist)/10.)\n",
    "\n",
    "jupiter_min_dist = min(jupiter_distance_list)\n",
    "jupiter_index = int(jupiter_distance_list.index(jupiter_min_dist)/10.)\n",
    "\n",
    "plt.plot(time_list,jupiter_distance_list,\"y\",alpha = 0.5)\n",
    "plt.plot(time_list,mars_distance_list,\"r\",alpha = 0.5)\n",
    "\n",
    "plt.plot(mars_index,mars_min_dist,\"ro\")\n",
    "plt.plot(jupiter_index,jupiter_min_dist,\"yo\")\n",
    "\n",
    "#plt.xlim(0,0.8e6)\n",
    "plt.ylim([-2,20])\n",
    "plt.show()\n",
    "print(\"closed distance to mars:\",min(mars_distance_list))\n",
    "print(\"closed distance to jupiter:\",min(jupiter_distance_list))\n",
    "\n",
    "print(jupiter_index)\n",
    "\n"
   ]
  },
  {
   "cell_type": "code",
   "execution_count": 6,
   "metadata": {},
   "outputs": [
    {
     "data": {
      "image/png": "[encoded data removed]",
      "text/plain": [
       "<Figure size 432x288 with 1 Axes>"
      ]
     },
     "metadata": {
      "needs_background": "light"
     },
     "output_type": "display_data"
    }
   ],
   "source": [
    "plt.plot(time_list,a_list)\n",
    "plt.ylim(1,4)\n",
    "plt.show()"
   ]
  },
  {
   "cell_type": "code",
   "execution_count": 9,
   "metadata": {},
   "outputs": [
    {
     "name": "stdout",
     "output_type": "stream",
     "text": [
      "---------------------------------\n",
      "REBOUND version:     \t3.19.1\n",
      "REBOUND built on:    \tJan 14 2022 11:24:53\n",
      "Number of particles: \t4\n",
      "Selected integrator: \twhfast\n",
      "Simulation time:     \t7.0000000007747719e+05\n",
      "Current timestep:    \t0.100000\n",
      "---------------------------------\n",
      "<rebound.particle.Particle object at 0x7f4dc6b3ba40, m=0.9999999999950272 x=-34.75241437818335 y=-54.28540182680149 z=2.489408493952846 vx=-0.00046312424474244233 vy=-8.807753161140079e-05 vz=1.2859929594740231e-05>\n",
      "<rebound.particle.Particle object at 0x7f4dc6b3bcc0, m=0.0009547919099366768 x=-34.868106786314954 y=-59.541982389447845 z=2.5138029833391777 vx=0.43329502124597424 vy=0.010840006054976212 vz=-0.009739194923084414>\n",
      "<rebound.particle.Particle object at 0x7f4dc6b3ba40, m=3.2271560828978514e-07 x=-34.3338801767378 y=-52.96200082360311 z=2.4803876332161168 vx=-0.8374799274037358 vy=0.28967982915477425 vz=-0.004385182127541979>\n",
      "<rebound.particle.Particle object at 0x7f4dc6b3bcc0, m=1e-29 x=3295.5131252298133 y=2024.9330637581274 z=46.450233546413614 vx=0.18543502462258354 vy=0.11590289700811879 vz=0.0024224778701197945>\n",
      "---------------------------------\n"
     ]
    }
   ],
   "source": [
    "sim.status()"
   ]
  },
  {
   "cell_type": "code",
   "execution_count": 8,
   "metadata": {},
   "outputs": [],
   "source": [
    "# gravitational force calculator\n",
    "\n",
    "def F_mars(r):\n",
    "    G = 6.67408e-11\n",
    "    M = (3.2271560828978514e-07)*(1.989e30)\n",
    "    mass = (1e-29)*(1.989e30)\n",
    "\n",
    "    return ((G*M*mass)/((r*1.496e11)**2))\n",
    "\n",
    "\n",
    "def F_jupiter(r):\n",
    "    G = 6.67408e-11\n",
    "    M = (0.0009547919099366768)*(1.989e30)\n",
    "    mass = (1e-29)*(1.989e30)\n",
    "    return ((G*M*mass)/((r*1.496e11)**2))\n",
    "\n",
    "\n",
    "g_force_list_jupiter = []\n",
    "g_force_list_mars = []\n",
    "for i in range (len(time_list)):\n",
    "    g_force_list_jupiter.append(F_jupiter(jupiter_distance_list[i]))\n",
    "    g_force_list_mars.append(F_mars(mars_distance_list[i]))\n",
    "\n"
   ]
  },
  {
   "cell_type": "code",
   "execution_count": 1,
   "metadata": {},
   "outputs": [
    {
     "name": "stdout",
     "output_type": "stream",
     "text": [
      "jupiter\n"
     ]
    },
    {
     "ename": "NameError",
     "evalue": "name 'g_force_list_jupiter' is not defined",
     "output_type": "error",
     "traceback": [
      "\u001b[0;31m---------------------------------------------------------------------------\u001b[0m",
      "\u001b[0;31mNameError\u001b[0m                                 Traceback (most recent call last)",
      "Input \u001b[0;32mIn [1]\u001b[0m, in \u001b[0;36m<module>\u001b[0;34m\u001b[0m\n\u001b[1;32m      1\u001b[0m \u001b[38;5;28mprint\u001b[39m(\u001b[38;5;124m\"\u001b[39m\u001b[38;5;124mjupiter\u001b[39m\u001b[38;5;124m\"\u001b[39m)\n\u001b[0;32m----> 2\u001b[0m \u001b[38;5;28mprint\u001b[39m(\u001b[38;5;124m\"\u001b[39m\u001b[38;5;124mmax force: \u001b[39m\u001b[38;5;124m\"\u001b[39m,\u001b[38;5;28mmax\u001b[39m(\u001b[43mg_force_list_jupiter\u001b[49m))\n\u001b[1;32m      3\u001b[0m \u001b[38;5;28mprint\u001b[39m(\u001b[38;5;124m\"\u001b[39m\u001b[38;5;124mtime: \u001b[39m\u001b[38;5;124m\"\u001b[39m,g_force_list_jupiter\u001b[38;5;241m.\u001b[39mindex(\u001b[38;5;28mmax\u001b[39m(g_force_list_jupiter)))\n\u001b[1;32m      4\u001b[0m \u001b[38;5;28mprint\u001b[39m(\u001b[38;5;124m\"\u001b[39m\u001b[38;5;124mmars\u001b[39m\u001b[38;5;124m\"\u001b[39m)\n",
      "\u001b[0;31mNameError\u001b[0m: name 'g_force_list_jupiter' is not defined"
     ]
    }
   ],
   "source": [
    "\n",
    "\n",
    "print(\"jupiter\")\n",
    "print(\"max force: \",max(g_force_list_jupiter))\n",
    "print(\"time: \",g_force_list_jupiter.index(max(g_force_list_jupiter)))\n",
    "print(\"mars\")\n",
    "print(\"max force: \",max(g_force_list_mars))\n",
    "print(\"time: \",g_force_list_mars.index(max(g_force_list_mars)))\n",
    "\n",
    "fig, ax1 = plt.subplots()\n",
    "fig.set_size_inches(10, 7)\n",
    "\n",
    "\n",
    "color = 'tab:red'\n",
    "ax1.set_xlabel('Time (Million years)')\n",
    "ax1.set_ylabel('Force (N)', color=color)\n",
    "ax1.plot(time_list, g_force_list_jupiter, color=\"y\",alpha = 0.5,label=\"force by Jupiter\")\n",
    "ax1.plot(time_list, g_force_list_mars, color=\"r\",alpha = 0.5,label=\"force by Mars\")\n",
    "ax1.tick_params(axis='y', labelcolor=color)\n",
    "ax1.legend(loc='upper center')\n",
    "ax1.set_xlim(0,0.7e6)\n",
    "#ax1.set_ylim(0)\n",
    "ax1.semilogy()\n",
    "ax2 = ax1.twinx()  # instantiate a second axes that shares the same x-axis\n",
    "\n",
    "color = 'tab:blue'\n",
    "ax2.set_ylabel('eccentricity', color=color)  # we already handled the x-label with ax1\n",
    "ax2.plot(time_list, e_list, color=color,alpha = 0.5,label=\"eccentricity of the asteroid\")\n",
    "ax2.tick_params(axis='y', labelcolor=color)\n",
    "#ax2.set_ylim(0.2,0.8)\n",
    "\n",
    "ax2.legend(loc='best', bbox_to_anchor=(0.5, 0., 0.5, 0.5))\n",
    "ax1.set_title('effect of gravity on the semi-major axis')\n",
    "\n",
    "scale_x = 1e6\n",
    "ticks_x = matplotlib.ticker.FuncFormatter(lambda time_list, pos: '{0:g}'.format(time_list/scale_x))\n",
    "ax2.xaxis.set_major_formatter(ticks_x)\n",
    "\n",
    "\n",
    "fig.tight_layout()  # otherwise the right y-label is slightly clipped\n",
    "#plt.xlim(0.025e6,0.075e6)\n",
    "plt.legend()\n",
    "plt.show()\n",
    "\n",
    "\n"
   ]
  },
  {
   "cell_type": "code",
   "execution_count": 16,
   "metadata": {},
   "outputs": [
    {
     "data": {
      "image/png": "[encoded data removed]",
      "text/plain": [
       "<Figure size 432x288 with 1 Axes>"
      ]
     },
     "metadata": {
      "needs_background": "light"
     },
     "output_type": "display_data"
    },
    {
     "name": "stdout",
     "output_type": "stream",
     "text": [
      "0.003850787421730898\n",
      "3926.433965519354\n"
     ]
    }
   ],
   "source": [
    "plt.plot(time_list,a_list)\n",
    "plt.ylim(1,4)\n",
    "plt.xlim(0,4.9e6)\n",
    "plt.show()\n",
    "print(min(mars_distance_list))\n",
    "print(max(mars_distance_list))\n"
   ]
  }
 ],
 "metadata": {
  "interpreter": {
   "hash": "916dbcbb3f70747c44a77c7bcd40155683ae19c65e1c03b4aa3499c5328201f1"
  },
  "kernelspec": {
   "display_name": "Python 3.8.10 64-bit",
   "language": "python",
   "name": "python3"
  },
  "language_info": {
   "codemirror_mode": {
    "name": "ipython",
    "version": 3
   },
   "file_extension": ".py",
   "mimetype": "text/x-python",
   "name": "python",
   "nbconvert_exporter": "python",
   "pygments_lexer": "ipython3",
   "version": "3.8.10"
  },
  "orig_nbformat": 4
 },
 "nbformat": 4,
 "nbformat_minor": 2
}
