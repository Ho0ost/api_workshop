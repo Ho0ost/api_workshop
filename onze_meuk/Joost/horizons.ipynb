{
 "cells": [
  {
   "cell_type": "code",
   "execution_count": 1,
   "metadata": {},
   "outputs": [],
   "source": [
    "from IPython.display import clear_output\n",
    "import rebound\n",
    "import matplotlib.pyplot as plt\n",
    "import numpy as np\n",
    "import random\n",
    "import csv\n",
    "import pandas as pd\n"
   ]
  },
  {
   "cell_type": "code",
   "execution_count": 3,
   "metadata": {},
   "outputs": [
    {
     "name": "stdout",
     "output_type": "stream",
     "text": [
      "Searching NASA Horizons for 'Sun'... \n",
      "Found: Sun (10) \n",
      "Searching NASA Horizons for 'Jupiter'... \n",
      "Found: Jupiter Barycenter (5) (chosen from query 'Jupiter')\n",
      "Searching NASA Horizons for 'Mars'... \n",
      "Found: Mars Barycenter (4) (chosen from query 'Mars')\n",
      "---------------------------------\n",
      "REBOUND version:     \t3.19.1\n",
      "REBOUND built on:    \tJan 14 2022 11:24:53\n",
      "Number of particles: \t3\n",
      "Selected integrator: \twhfast\n",
      "Simulation time:     \t0.0000000000000000e+00\n",
      "Current timestep:    \t0.100000\n",
      "---------------------------------\n",
      "<rebound.particle.Particle object at 0x7f223dd71640, m=0.9999999999950272 x=-0.008669035216216899 y=0.0031140563797133693 z=0.00017700903203290386 vx=-0.00017842972567085554 vy=-0.0004942109647718484 vz=8.170411607613112e-06>\n",
      "<rebound.particle.Particle object at 0x7f223dd716c0, m=0.0009547919099366768 x=4.717393707823112 y=-1.58629315260585 z=-0.0989587433278056 vx=0.13456873359546767 vy=0.4363713717691052 vz=-0.004821057409397645>\n",
      "<rebound.particle.Particle object at 0x7f223dd71640, m=3.2271560828978514e-07 x=-0.5195763051075928 y=-1.4079912951728626 z=-0.016864026009610615 vx=0.7953007114278168 vy=-0.2075756016137399 vz=-0.023844826829689417>\n",
      "---------------------------------\n"
     ]
    }
   ],
   "source": [
    "sim = rebound.Simulation()\n",
    "\n",
    "sim.move_to_com()\n",
    "sim.integrator = \"whfast\"\n",
    "sim.dt = .1\n",
    "\n",
    "sim.add(\"Sun\")\n",
    "sim.add(\"Jupiter\")\n",
    "sim.add(\"Mars\")\n",
    "sim.status()"
   ]
  },
  {
   "cell_type": "code",
   "execution_count": 4,
   "metadata": {},
   "outputs": [
    {
     "name": "stdout",
     "output_type": "stream",
     "text": [
      "---------------------------------\n",
      "REBOUND version:     \t3.19.1\n",
      "REBOUND built on:    \tJan 14 2022 11:24:53\n",
      "Number of particles: \t3\n",
      "Selected integrator: \twhfast\n",
      "Simulation time:     \t0.0000000000000000e+00\n",
      "Current timestep:    \t0.100000\n",
      "---------------------------------\n",
      "<rebound.particle.Particle object at 0x7f223dd715c0, m=0.9999999999950272 x=-0.008669035216216899 y=0.0031140563797133693 z=0.00017700903203290386 vx=-0.00017842972567085554 vy=-0.0004942109647718484 vz=8.170411607613112e-06>\n",
      "<rebound.particle.Particle object at 0x7f223dd71740, m=0.0009547919099366768 x=4.717393707823112 y=-1.58629315260585 z=-0.0989587433278056 vx=0.13456873359546767 vy=0.4363713717691052 vz=-0.004821057409397645>\n",
      "<rebound.particle.Particle object at 0x7f223dd715c0, m=3.2271560828978514e-07 x=-0.5195763051075928 y=-1.4079912951728626 z=-0.016864026009610615 vx=0.7953007114278168 vy=-0.2075756016137399 vz=-0.023844826829689417>\n",
      "---------------------------------\n"
     ]
    }
   ],
   "source": [
    "sim = rebound.Simulation()\n",
    "\n",
    "sim.move_to_com()\n",
    "sim.integrator = \"whfast\"\n",
    "sim.dt = .1\n",
    "\n",
    "# sun\n",
    "sim.add(m=0.9999999999950272, x=-0.008669035216216899, y=0.0031140563797133693, z=0.00017700903203290386, vx=-0.00017842972567085554, vy=-0.0004942109647718484, vz=8.170411607613112e-06)\n",
    "# jupiter\n",
    "sim.add(m=0.0009547919099366768, x=4.717393707823112, y=-1.58629315260585, z=-0.0989587433278056, vx=0.13456873359546767, vy=0.4363713717691052, vz=-0.004821057409397645)\n",
    "# mars\n",
    "sim.add(m=3.2271560828978514e-07, x=-0.5195763051075928, y=-1.4079912951728626, z=-0.016864026009610615, vx=0.7953007114278168, vy=-0.2075756016137399, vz=-0.023844826829689417)\n",
    "\n",
    "sim.status()"
   ]
  },
  {
   "cell_type": "code",
   "execution_count": 5,
   "metadata": {},
   "outputs": [
    {
     "data": {
      "image/png": "[encoded data removed]",
      "text/plain": [
       "<Figure size 360x360 with 1 Axes>"
      ]
     },
     "metadata": {
      "needs_background": "light"
     },
     "output_type": "display_data"
    }
   ],
   "source": [
    "fig = rebound.OrbitPlot(sim)"
   ]
  }
 ],
 "metadata": {
  "interpreter": {
   "hash": "916dbcbb3f70747c44a77c7bcd40155683ae19c65e1c03b4aa3499c5328201f1"
  },
  "kernelspec": {
   "display_name": "Python 3.8.10 64-bit",
   "language": "python",
   "name": "python3"
  },
  "language_info": {
   "codemirror_mode": {
    "name": "ipython",
    "version": 3
   },
   "file_extension": ".py",
   "mimetype": "text/x-python",
   "name": "python",
   "nbconvert_exporter": "python",
   "pygments_lexer": "ipython3",
   "version": "3.8.10"
  },
  "orig_nbformat": 4
 },
 "nbformat": 4,
 "nbformat_minor": 2
}
