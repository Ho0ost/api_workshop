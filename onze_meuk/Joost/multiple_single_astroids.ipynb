{
 "cells": [
  {
   "cell_type": "code",
   "execution_count": 11,
   "metadata": {},
   "outputs": [],
   "source": [
    "from IPython.display import clear_output\n",
    "import rebound\n",
    "import matplotlib.pyplot as plt\n",
    "import numpy as np\n",
    "import random"
   ]
  },
  {
   "cell_type": "code",
   "execution_count": 2,
   "metadata": {},
   "outputs": [
    {
     "name": "stdout",
     "output_type": "stream",
     "text": [
      "Searching NASA Horizons for 'Sun'... \n",
      "Found: Sun (10) \n",
      "Searching NASA Horizons for 'Jupiter'... \n",
      "Found: Jupiter Barycenter (5) (chosen from query 'Jupiter')\n",
      "<rebound.particle.Particle object at 0x7f6ea53aa4c0, m=0.9999999999950272 x=-0.008647339146912136 y=0.003173449379668766 z=0.0001760233652804739 vx=-0.00018232701132305543 vy=-0.0004933127082696685 vz=8.217828868307602e-06>\n"
     ]
    }
   ],
   "source": [
    "sim = rebound.Simulation()\n",
    "#sim.units = ('AU', 'yr', 'Msun')\n",
    "sim.add(\"Sun\")\n",
    "sim.add(\"Jupiter\")\n",
    "print(sim.particles[0])\n",
    "        "
   ]
  },
  {
   "cell_type": "code",
   "execution_count": 12,
   "metadata": {},
   "outputs": [
    {
     "name": "stdout",
     "output_type": "stream",
     "text": [
      "0.01\n"
     ]
    },
    {
     "ename": "KeyboardInterrupt",
     "evalue": "",
     "output_type": "error",
     "traceback": [
      "\u001b[0;31m---------------------------------------------------------------------------\u001b[0m",
      "\u001b[0;31mKeyboardInterrupt\u001b[0m                         Traceback (most recent call last)",
      "\u001b[0;32m/tmp/ipykernel_4441/3439366794.py\u001b[0m in \u001b[0;36m<module>\u001b[0;34m\u001b[0m\n\u001b[1;32m     30\u001b[0m \u001b[0;34m\u001b[0m\u001b[0m\n\u001b[1;32m     31\u001b[0m             \u001b[0;32mtry\u001b[0m\u001b[0;34m:\u001b[0m\u001b[0;34m\u001b[0m\u001b[0;34m\u001b[0m\u001b[0m\n\u001b[0;32m---> 32\u001b[0;31m                 \u001b[0msim\u001b[0m\u001b[0;34m.\u001b[0m\u001b[0mintegrate\u001b[0m\u001b[0;34m(\u001b[0m\u001b[0myears\u001b[0m\u001b[0;34m*\u001b[0m\u001b[0;36m2.\u001b[0m\u001b[0;34m*\u001b[0m\u001b[0mnp\u001b[0m\u001b[0;34m.\u001b[0m\u001b[0mpi\u001b[0m\u001b[0;34m)\u001b[0m\u001b[0;34m\u001b[0m\u001b[0;34m\u001b[0m\u001b[0m\n\u001b[0m\u001b[1;32m     33\u001b[0m                 \u001b[0ma_list\u001b[0m\u001b[0;34m.\u001b[0m\u001b[0mappend\u001b[0m\u001b[0;34m(\u001b[0m\u001b[0msim\u001b[0m\u001b[0;34m.\u001b[0m\u001b[0mparticles\u001b[0m\u001b[0;34m[\u001b[0m\u001b[0;36m2\u001b[0m\u001b[0;34m]\u001b[0m\u001b[0;34m.\u001b[0m\u001b[0ma\u001b[0m\u001b[0;34m)\u001b[0m\u001b[0;34m\u001b[0m\u001b[0;34m\u001b[0m\u001b[0m\n\u001b[1;32m     34\u001b[0m                 \u001b[0;31m# delete particle if it escaped the system\u001b[0m\u001b[0;34m\u001b[0m\u001b[0;34m\u001b[0m\u001b[0;34m\u001b[0m\u001b[0m\n",
      "\u001b[0;32m~/.local/lib/python3.8/site-packages/rebound/simulation.py\u001b[0m in \u001b[0;36mintegrate\u001b[0;34m(self, tmax, exact_finish_time)\u001b[0m\n\u001b[1;32m   1771\u001b[0m             \u001b[0;32mraise\u001b[0m \u001b[0mEscape\u001b[0m\u001b[0;34m(\u001b[0m\u001b[0;34m\"User caused exit. Simulation did not finish.\"\u001b[0m\u001b[0;34m)\u001b[0m \u001b[0;31m# should not occur in python\u001b[0m\u001b[0;34m\u001b[0m\u001b[0;34m\u001b[0m\u001b[0m\n\u001b[1;32m   1772\u001b[0m         \u001b[0;32mif\u001b[0m \u001b[0mret_value\u001b[0m \u001b[0;34m==\u001b[0m \u001b[0;36m6\u001b[0m\u001b[0;34m:\u001b[0m\u001b[0;34m\u001b[0m\u001b[0;34m\u001b[0m\u001b[0m\n\u001b[0;32m-> 1773\u001b[0;31m             \u001b[0;32mraise\u001b[0m \u001b[0mKeyboardInterrupt\u001b[0m\u001b[0;34m\u001b[0m\u001b[0;34m\u001b[0m\u001b[0m\n\u001b[0m\u001b[1;32m   1774\u001b[0m         \u001b[0;32mif\u001b[0m \u001b[0mret_value\u001b[0m \u001b[0;34m==\u001b[0m \u001b[0;36m7\u001b[0m\u001b[0;34m:\u001b[0m\u001b[0;34m\u001b[0m\u001b[0;34m\u001b[0m\u001b[0m\n\u001b[1;32m   1775\u001b[0m             \u001b[0;32mraise\u001b[0m \u001b[0mCollision\u001b[0m\u001b[0;34m(\u001b[0m\u001b[0;34m\"Two particles collided (d < r1+r2)\"\u001b[0m\u001b[0;34m)\u001b[0m\u001b[0;34m\u001b[0m\u001b[0;34m\u001b[0m\u001b[0m\n",
      "\u001b[0;31mKeyboardInterrupt\u001b[0m: "
     ]
    }
   ],
   "source": [
    "sim = rebound.Simulation()\n",
    "#sim.units = ('AU', 'yr', 'Msun')\n",
    "sim.add(m=1)\n",
    "sim.add(m=0.0009547919099366768, x=4.700873257350307, y=-1.638871658756794, z=-0.09837100227914734, vx=0.1391574941369194, vy=0.4348006080824522, vz=-0.004917193679728236)\n",
    "sim.move_to_com()\n",
    "sim.integrator = \"whfast\"\n",
    "sim.dt = .01\n",
    "\n",
    "exit_max_distance = 10\n",
    "a_list = []\n",
    "rings = 200\n",
    "as_per_ring = 4\n",
    "for i in range (rings):\n",
    "    for j in range (as_per_ring):\n",
    "        # create sim with sun and jupiter\n",
    "        \n",
    "        clear_output(wait=True)\n",
    "        print(i/rings)\n",
    "\n",
    "        # create astroid\n",
    "        mass = 1e-29\n",
    "        radius = 2.400+0.001*i\n",
    "        # res on 2.502\n",
    "\n",
    "        omega =(2*np.pi)/as_per_ring*i\n",
    "        ecc = 0.2*random.random()\n",
    "\n",
    "        sim.add(m=mass,a=radius,omega=omega, e=ecc)\n",
    "        for years in range(1000):\n",
    "\n",
    "            try:\n",
    "                sim.integrate(years*2.*np.pi)  \n",
    "                a_list.append(sim.particles[2].a)\n",
    "                # delete particle if it escaped the system\n",
    "            except rebound.Escape as error:\n",
    "                print(error)\n",
    "                for j in range(sim.N):\n",
    "                    p = sim.particles[j]\n",
    "                    d2 = p.x*p.x + p.y*p.y + p.z*p.z\n",
    "                    if d2>sim.exit_max_distance**2:\n",
    "                        index=j # cache index rather than remove here since our loop would go beyond end of particles array\n",
    "\n",
    "            #sim.integrate(years*2*np.pi)\n",
    "            \n",
    "        sim.remove(2)\n",
    "        \n"
   ]
  },
  {
   "cell_type": "code",
   "execution_count": 10,
   "metadata": {},
   "outputs": [
    {
     "data": {
      "image/png": "[encoded data removed]",
      "text/plain": [
       "<Figure size 432x288 with 1 Axes>"
      ]
     },
     "metadata": {
      "needs_background": "light"
     },
     "output_type": "display_data"
    }
   ],
   "source": [
    "plt.hist(a_list,bins=1000,range=(1,4))\n",
    "plt.show()"
   ]
  },
  {
   "cell_type": "code",
   "execution_count": null,
   "metadata": {},
   "outputs": [],
   "source": []
  }
 ],
 "metadata": {
  "interpreter": {
   "hash": "916dbcbb3f70747c44a77c7bcd40155683ae19c65e1c03b4aa3499c5328201f1"
  },
  "kernelspec": {
   "display_name": "Python 3.8.10 64-bit",
   "language": "python",
   "name": "python3"
  },
  "language_info": {
   "codemirror_mode": {
    "name": "ipython",
    "version": 3
   },
   "file_extension": ".py",
   "mimetype": "text/x-python",
   "name": "python",
   "nbconvert_exporter": "python",
   "pygments_lexer": "ipython3",
   "version": "3.8.10"
  },
  "orig_nbformat": 4
 },
 "nbformat": 4,
 "nbformat_minor": 2
}
