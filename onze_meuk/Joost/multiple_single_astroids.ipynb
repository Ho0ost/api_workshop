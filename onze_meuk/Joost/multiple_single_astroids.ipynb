{
 "cells": [
  {
   "cell_type": "code",
   "execution_count": 1,
   "metadata": {},
   "outputs": [],
   "source": [
    "from IPython.display import clear_output\n",
    "import rebound\n",
    "import matplotlib.pyplot as plt\n",
    "import numpy as np\n",
    "import random\n",
    "import csv\n"
   ]
  },
  {
   "cell_type": "code",
   "execution_count": 67,
   "metadata": {},
   "outputs": [
    {
     "name": "stdout",
     "output_type": "stream",
     "text": [
      "0.75\n"
     ]
    }
   ],
   "source": [
    "sim = rebound.Simulation()\n",
    "\n",
    "# add sun\n",
    "sim.move_to_com()\n",
    "sim.integrator = \"whfast\"\n",
    "sim.dt = .1\n",
    "simtime = 1000000\n",
    "\n",
    "exit_max_distance = 10\n",
    "a_list = []\n",
    "e_list = []\n",
    "starting_e_list = []\n",
    "final_a_list = []\n",
    "starting_a_list = []\n",
    "rings = 1\n",
    "as_per_ring = 4\n",
    "\n",
    "\n",
    "\n",
    "for i in range (rings):\n",
    "\n",
    "    #clear_output(wait=True)\n",
    "    #print(i/rings)\n",
    "\n",
    "    for j in range (as_per_ring):\n",
    "        clear_output(wait=True)\n",
    "        print(j/as_per_ring)\n",
    "    \n",
    "        # create astroid\n",
    "        mass = 1e-29\n",
    "        #radius = 2.495+(0.001*i)\n",
    "        radius = 2.502\n",
    "        \n",
    "        # res on 2.502\n",
    "\n",
    "        #omega =((2*np.pi)/as_per_ring)*j\n",
    "        omega =(2*np.pi)*random.random()\n",
    "        #omega = 0.5*np.pi\n",
    "        ecc = 0.2*random.random()\n",
    "        #ecc = 0\n",
    "        \n",
    "        # add sun\n",
    "        sim.add(m=1)\n",
    "        # add mars\n",
    "        sim.add(m=3.2271560828978514e-07, a= 1.524, omega = 0.5*np.pi)\n",
    "        # add jupiter\n",
    "        sim.add(m=0.0009547919099366768, a = 5.204, omega = 1.5*np.pi)\n",
    "        # add astroid\n",
    "        sim.add(m=mass,a=radius,omega=omega, e=ecc)\n",
    "        \n",
    "        starting_a_list.append(radius)\n",
    "        starting_e_list.append(ecc)\n",
    "\n",
    "        for years in np.arange(simtime*10):\n",
    "            sim.step()\n",
    "\n",
    "            # try:\n",
    "            #     sim.step()\n",
    "            #     #sim.integrate(years*2.*np.pi)  \n",
    "            #     #a_list.append(sim.particles[2].a)\n",
    "            #     # delete particle if it escaped the system\n",
    "            # except rebound.Escape as error:\n",
    "            #     print(error)\n",
    "            #     for j in range(sim.N):\n",
    "            #         p = sim.particles[j]\n",
    "            #         d2 = p.x*p.x + p.y*p.y + p.z*p.z\n",
    "            #         if d2>sim.exit_max_distance**2:\n",
    "            #             index=j # cache index rather than remove here since our loop would go beyond end of particles array\n",
    "\n",
    "            #sim.integrate(years*2*np.pi)\n",
    "            a_list.append(sim.particles[3].a)\n",
    "            \n",
    "        final_a_list.append(sim.particles[3].a)\n",
    "        e_list.append(sim.particles[3].e)\n",
    "        sim.remove(3)\n",
    "        sim.remove(2)\n",
    "        sim.remove(1)\n",
    "        sim.remove(0)\n",
    "\n",
    "\n",
    "# with open('a_list.csv', 'w') as f1:\n",
    "      \n",
    "#     # using csv.writer method from CSV package\n",
    "#     write = csv.writer(f1)\n",
    "#     write.writerow([\"a_list\"])\n",
    "#     write.writerows([a_list])\n",
    "\n",
    "\n",
    "# with open('final_a_list.csv', 'w') as f2:\n",
    "      \n",
    "#     # using csv.writer method from CSV package\n",
    "#     write = csv.writer(f2)\n",
    "#     write.writerow([\"final_a_list\"])\n",
    "#     write.writerows([final_a_list])\n"
   ]
  },
  {
   "cell_type": "code",
   "execution_count": 33,
   "metadata": {},
   "outputs": [
    {
     "name": "stdout",
     "output_type": "stream",
     "text": [
      "10000 / 10000\n"
     ]
    }
   ],
   "source": [
    "print(len(final_a_list),\"/\",len(starting_a_list))"
   ]
  },
  {
   "cell_type": "code",
   "execution_count": 63,
   "metadata": {},
   "outputs": [],
   "source": [
    "delta_e_list = []\n",
    "for i in range (len(starting_a_list)):\n",
    "    delta_e_list.append(abs(starting_e_list[i]-e_list[i]))"
   ]
  },
  {
   "cell_type": "code",
   "execution_count": 68,
   "metadata": {},
   "outputs": [
    {
     "data": {
      "image/png": "[encoded data removed]",
      "text/plain": [
       "<Figure size 432x288 with 1 Axes>"
      ]
     },
     "metadata": {
      "needs_background": "light"
     },
     "output_type": "display_data"
    }
   ],
   "source": [
    "plt.plot(final_a_list,e_list,\"bo\")\n",
    "plt.plot(starting_a_list,starting_e_list,\"ro\",alpha = 0.2)\n",
    "plt.show()"
   ]
  },
  {
   "cell_type": "code",
   "execution_count": 31,
   "metadata": {},
   "outputs": [
    {
     "data": {
      "image/png": "[encoded data removed]",
      "text/plain": [
       "<Figure size 432x288 with 1 Axes>"
      ]
     },
     "metadata": {
      "needs_background": "light"
     },
     "output_type": "display_data"
    }
   ],
   "source": [
    "plt.hist(final_a_list,bins=100,alpha=0.5,label=\"final\")#,range=(1,4))\n",
    "plt.hist(starting_a_list,bins=100,alpha=0.3,label=\"start\")\n",
    "plt.show()"
   ]
  },
  {
   "cell_type": "code",
   "execution_count": 10,
   "metadata": {},
   "outputs": [
    {
     "data": {
      "image/png": "[encoded data removed]",
      "text/plain": [
       "<Figure size 432x288 with 1 Axes>"
      ]
     },
     "metadata": {
      "needs_background": "light"
     },
     "output_type": "display_data"
    }
   ],
   "source": [
    "plt.hist(starting_a_list,bins=100)#,range=(1,4))\n",
    "plt.show()"
   ]
  },
  {
   "cell_type": "code",
   "execution_count": null,
   "metadata": {},
   "outputs": [],
   "source": [
    "print(((a_list)))"
   ]
  },
  {
   "cell_type": "code",
   "execution_count": 69,
   "metadata": {},
   "outputs": [
    {
     "name": "stdout",
     "output_type": "stream",
     "text": [
      "---------------------------------\n",
      "REBOUND version:     \t3.19.1\n",
      "REBOUND built on:    \tJan 14 2022 11:24:53\n",
      "Number of particles: \t0\n",
      "Selected integrator: \twhfast\n",
      "Simulation time:     \t3.9999999942900152e+06\n",
      "Current timestep:    \t0.100000\n",
      "---------------------------------\n"
     ]
    }
   ],
   "source": [
    "sim.status()"
   ]
  }
 ],
 "metadata": {
  "interpreter": {
   "hash": "916dbcbb3f70747c44a77c7bcd40155683ae19c65e1c03b4aa3499c5328201f1"
  },
  "kernelspec": {
   "display_name": "Python 3.8.10 64-bit",
   "language": "python",
   "name": "python3"
  },
  "language_info": {
   "codemirror_mode": {
    "name": "ipython",
    "version": 3
   },
   "file_extension": ".py",
   "mimetype": "text/x-python",
   "name": "python",
   "nbconvert_exporter": "python",
   "pygments_lexer": "ipython3",
   "version": "3.8.10"
  },
  "orig_nbformat": 4
 },
 "nbformat": 4,
 "nbformat_minor": 2
}
