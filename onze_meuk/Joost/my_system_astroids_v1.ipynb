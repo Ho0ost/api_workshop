{
 "cells": [
  {
   "cell_type": "code",
   "execution_count": null,
   "metadata": {},
   "outputs": [],
   "source": [
    "from IPython.display import clear_output\n",
    "import rebound\n",
    "import matplotlib.pyplot as plt\n",
    "import numpy as np"
   ]
  },
  {
   "cell_type": "code",
   "execution_count": null,
   "metadata": {},
   "outputs": [],
   "source": [
    "sim = rebound.Simulation()\n",
    "sim.units = ('AU', 'yr', 'Msun')\n",
    "sim.add(\"Sun\")\n",
    "sim.add(\"Jupiter\")\n",
    "sim.move_to_com()\n",
    "#sim.integrator = \"whfast\"\n",
    "sim.dt = .01"
   ]
  },
  {
   "cell_type": "code",
   "execution_count": null,
   "metadata": {},
   "outputs": [],
   "source": [
    "as_per_ring = 1000\n",
    "rings = 1\n",
    "\n",
    "for j in range (rings):\n",
    "    for i in range (as_per_ring):\n",
    "        mass=1e-29\n",
    "        radius=2.502+0.001*j\n",
    "        omega=(2*np.pi)/as_per_ring*i\n",
    "        ecc = 0.2\n",
    "        sim.add(m=mass,a=radius,omega=omega)"
   ]
  },
  {
   "cell_type": "code",
   "execution_count": null,
   "metadata": {},
   "outputs": [],
   "source": [
    "fig = rebound.OrbitPlot(sim,ylim=[2.4,2.6],xlim=[-0.1,0.1],orbit_type=None)"
   ]
  },
  {
   "cell_type": "code",
   "execution_count": null,
   "metadata": {},
   "outputs": [],
   "source": [
    "fig = rebound.OrbitPlot(sim)"
   ]
  },
  {
   "cell_type": "code",
   "execution_count": null,
   "metadata": {},
   "outputs": [],
   "source": [
    "sim.status()"
   ]
  },
  {
   "cell_type": "code",
   "execution_count": null,
   "metadata": {},
   "outputs": [],
   "source": [
    "years = 500\n",
    "time = years\n",
    "sim.exit_max_distance = 50.\n",
    "#sim.ri_whfast.safemode = 0\n",
    "#sim.ri_whfast.corrector = 11\n",
    "for i in range (years):\n",
    "\n",
    "    clear_output(wait=True)\n",
    "    print(i)\n",
    "\n",
    "    # try intergrating\n",
    "    try:\n",
    "        sim.integrate(i*2.*np.pi)  \n",
    "    # delete particle if it escaped the system\n",
    "    except rebound.Escape as error:\n",
    "        print(error)\n",
    "        for j in range(sim.N):\n",
    "            p = sim.particles[j]\n",
    "            d2 = p.x*p.x + p.y*p.y + p.z*p.z\n",
    "            if d2>sim.exit_max_distance**2:\n",
    "                index=j # cache index rather than remove here since our loop would go beyond end of particles array\n",
    "        sim.remove(index=index)\n",
    "\n",
    "    "
   ]
  },
  {
   "cell_type": "code",
   "execution_count": null,
   "metadata": {},
   "outputs": [],
   "source": [
    "sim.save(\"snapshot.bin\")"
   ]
  },
  {
   "cell_type": "code",
   "execution_count": null,
   "metadata": {},
   "outputs": [],
   "source": [
    "fig, ax = rebound.OrbitPlot(sim, orbit_type=None)"
   ]
  },
  {
   "cell_type": "code",
   "execution_count": null,
   "metadata": {},
   "outputs": [],
   "source": [
    "bin_list = []\n",
    "\n",
    "for i in range (1000):\n",
    "\n",
    "    bin_list.append(sim.particles[i+2].a)\n",
    "    "
   ]
  },
  {
   "cell_type": "code",
   "execution_count": null,
   "metadata": {},
   "outputs": [],
   "source": [
    "plt.hist(bin_list,bins=500)\n",
    "plt.show()"
   ]
  }
 ],
 "metadata": {
  "interpreter": {
   "hash": "916dbcbb3f70747c44a77c7bcd40155683ae19c65e1c03b4aa3499c5328201f1"
  },
  "kernelspec": {
   "display_name": "Python 3.8.10 64-bit",
   "language": "python",
   "name": "python3"
  },
  "language_info": {
   "name": "python",
   "version": "3.8.10"
  },
  "orig_nbformat": 4
 },
 "nbformat": 4,
 "nbformat_minor": 2
}
