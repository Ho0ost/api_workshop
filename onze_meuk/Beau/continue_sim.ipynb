{
 "cells": [
  {
   "cell_type": "code",
   "execution_count": 1,
   "metadata": {},
   "outputs": [],
   "source": [
    "from IPython.display import clear_output\n",
    "import rebound\n",
    "import matplotlib.pyplot as plt\n",
    "import numpy as np\n",
    "import random\n",
    "import csv\n",
    "import pandas as pd"
   ]
  },
  {
   "cell_type": "code",
   "execution_count": 2,
   "metadata": {},
   "outputs": [],
   "source": [
    "simtime = 400003\n",
    "asteroids = 3000"
   ]
  },
  {
   "cell_type": "code",
   "execution_count": 3,
   "metadata": {},
   "outputs": [
    {
     "name": "stdout",
     "output_type": "stream",
     "text": [
      "0.9943\n"
     ]
    }
   ],
   "source": [
    "dfa = pd.read_csv(\"opslag_asteroids.csv\")\n",
    "\n",
    "continue_a_list = []\n",
    "continue_e_list = []\n",
    "continue_omega_list = []\n",
    "continue_inc_list = []\n",
    "\n",
    "for row_number in range(len(dfa)):\n",
    "    if dfa.loc[row_number][1] == simtime:\n",
    "        continue_a_list.append(dfa.loc[row_number][3]) \n",
    "        continue_e_list.append(dfa.loc[row_number][5]) \n",
    "        continue_omega_list.append(dfa.loc[row_number][7]) \n",
    "        continue_inc_list.append(dfa.loc[row_number][9])\n",
    "\n",
    "    if row_number % 1000 == 0:\n",
    "        clear_output(wait=True)\n",
    "        print(round(row_number/len(dfa),4))\n",
    "\n",
    "    \n",
    "        \n"
   ]
  },
  {
   "cell_type": "code",
   "execution_count": 4,
   "metadata": {},
   "outputs": [],
   "source": [
    "dfp = pd.read_csv(\"opslag_planets.csv\")\n",
    "\n",
    "sun_stuff = []\n",
    "jupiter_stuff = []\n",
    "mars_stuff = []\n",
    "\n",
    "for row_number in range(len(dfp)):\n",
    "    if dfp.loc[row_number][1] == simtime:\n",
    "        for i in range(6):\n",
    "            sun_stuff.append(dfp.loc[row_number][i+2])\n",
    "            jupiter_stuff.append(dfp.loc[row_number][i+8])\n",
    "            mars_stuff.append(dfp.loc[row_number][i+14])"
   ]
  },
  {
   "cell_type": "code",
   "execution_count": 8,
   "metadata": {},
   "outputs": [
    {
     "name": "stdout",
     "output_type": "stream",
     "text": [
      "0.4933\n"
     ]
    }
   ],
   "source": [
    "sim_continue = rebound.Simulation()\n",
    "\n",
    "\n",
    "sim_continue.integrator = \"WHfast\"\n",
    "sim_continue.dt = 0.1\n",
    "continue_simtime = 800000\n",
    "\n",
    "final_a_list = []\n",
    "final_e_list = []\n",
    "\n",
    "\n",
    "for j in range (asteroids):\n",
    "    \n",
    "    \n",
    "    # sun\n",
    "    sim_continue.add(m=0.9999999999950272, x=sun_stuff[0], y=sun_stuff[1], z=sun_stuff[2], vx=sun_stuff[3], vy=sun_stuff[4], vz=sun_stuff[5])\n",
    "    # jupiter\n",
    "    sim_continue.add(m=0.0009547919099366768, x=jupiter_stuff[0], y=jupiter_stuff[1], z=jupiter_stuff[2], vx=jupiter_stuff[3], vy=jupiter_stuff[4], vz=jupiter_stuff[5])\n",
    "    # mars\n",
    "    sim_continue.add(m=3.2271560828978514e-07, x=mars_stuff[0], y=mars_stuff[1], z=mars_stuff[2], vx=mars_stuff[3], vy=mars_stuff[4], vz=mars_stuff[5])\n",
    "    sim_continue.move_to_com()\n",
    "    \n",
    "    mass = 1e-29\n",
    "    radius = continue_a_list[j]\n",
    "    ecc = continue_e_list[j]\n",
    "    omega = continue_omega_list[j]\n",
    "    inc = continue_inc_list[j]\n",
    "\n",
    "    sim_continue.add(m=mass, a=radius, e=ecc, omega=omega, inc=inc)\n",
    "\n",
    "    sim_continue.steps(int(continue_simtime*(1/sim_continue.dt)))\n",
    "\n",
    "    final_a_list.append(sim_continue.particles[3].a)\n",
    "    final_e_list.append(sim_continue.particles[3].e)\n",
    "    \n",
    "    # Opslaan in bestandje\n",
    "    with open('opslag_asteroids.csv', 'a') as f:\n",
    "        \n",
    "        # using csv.writer method from CSV package\n",
    "        write = csv.writer(f)\n",
    "        write.writerow([asteroids, simtime+continue_simtime, radius, sim_continue.particles[3].a, ecc, sim_continue.particles[3].e,  omega, sim_continue.particles[3].omega, inc, sim_continue.particles[3].inc])\n",
    "    f.close()\n",
    "\n",
    "    sun = sim_continue.particles[0]\n",
    "    mars = sim_continue.particles[1]\n",
    "    jupiter = sim_continue.particles[2]\n",
    "    if i == asteroids-1:\n",
    "        with open('opslag_planets.csv', 'a') as f2:\n",
    "            write = csv.writer(f2)\n",
    "            write.writerow([asteroids, simtime+continue_simtime, sun.x, sun.y, sun.z, sun.vx, sun.vy, sun.vz, jupiter.x, jupiter.y, jupiter.z, jupiter.vx, jupiter.vy, jupiter.vz, mars.x, mars.y, mars.z, mars.vx, mars.vy, mars.vz])\n",
    "        f2.close()\n",
    "\n",
    "\n",
    "    sim_continue.remove(0)\n",
    "    sim_continue.remove(0)\n",
    "    sim_continue.remove(0)\n",
    "    sim_continue.remove(0)\n",
    "\n",
    "    if j % 10 == 0:\n",
    "        clear_output(wait=True)\n",
    "        print(round(j/asteroids,4))\n",
    "\n"
   ]
  },
  {
   "cell_type": "code",
   "execution_count": 19,
   "metadata": {},
   "outputs": [
    {
     "data": {
      "image/png": "[encoded data removed]",
      "text/plain": [
       "<Figure size 432x288 with 1 Axes>"
      ]
     },
     "metadata": {
      "needs_background": "light"
     },
     "output_type": "display_data"
    },
    {
     "data": {
      "text/plain": [
       "<Figure size 432x288 with 0 Axes>"
      ]
     },
     "metadata": {},
     "output_type": "display_data"
    }
   ],
   "source": [
    "plt.scatter(final_a_list, final_e_list, s=2)\n",
    "plt.xlim(2.35, 2.65)\n",
    "#plt.ylim(-0.05, 0.3)\n",
    "#plt.savefig('10001_4000_1_scattertotal')\n",
    "plt.figure()\n",
    "\n",
    "\n",
    "plt.show()"
   ]
  },
  {
   "cell_type": "code",
   "execution_count": null,
   "metadata": {},
   "outputs": [],
   "source": [
    "# 400003 + 49997"
   ]
  }
 ],
 "metadata": {
  "interpreter": {
   "hash": "916dbcbb3f70747c44a77c7bcd40155683ae19c65e1c03b4aa3499c5328201f1"
  },
  "kernelspec": {
   "display_name": "Python 3.8.10 64-bit",
   "language": "python",
   "name": "python3"
  },
  "language_info": {
   "codemirror_mode": {
    "name": "ipython",
    "version": 3
   },
   "file_extension": ".py",
   "mimetype": "text/x-python",
   "name": "python",
   "nbconvert_exporter": "python",
   "pygments_lexer": "ipython3",
   "version": "3.8.10"
  },
  "orig_nbformat": 4
 },
 "nbformat": 4,
 "nbformat_minor": 2
}
