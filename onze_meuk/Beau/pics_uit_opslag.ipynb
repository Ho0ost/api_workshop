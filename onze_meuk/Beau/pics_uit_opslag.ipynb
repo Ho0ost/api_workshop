{
 "cells": [
  {
   "cell_type": "code",
   "execution_count": 24,
   "metadata": {},
   "outputs": [],
   "source": [
    "import matplotlib.pyplot as plt\n",
    "import csv\n",
    "import pandas as pd"
   ]
  },
  {
   "cell_type": "code",
   "execution_count": 80,
   "metadata": {},
   "outputs": [
    {
     "name": "stdout",
     "output_type": "stream",
     "text": [
      "Flung asteroid = #1892, starting semi-major axis = 2.496, starting eccentricity = 0.193...\n",
      "4003\n"
     ]
    }
   ],
   "source": [
    "#col_list = [\"starting_a\", \"final_a\", \"starting_e\", \"final_e\", \"#asteroids\", \"simtime\"]\n",
    "df = pd.read_csv(\"opslag.csv\") #, usecols = col_list)\n",
    "\n",
    "\n",
    "final_a_list = []\n",
    "final_e_list = []\n",
    "\n",
    "lengte_opslag = len(df)\n",
    "\n",
    "# welke simulatie zoeken we\n",
    "simtime = 500000\n",
    "\n",
    "for row_number in range(lengte_opslag):\n",
    "    if df.loc[row_number].iat[5] == simtime:\n",
    "        final_a_list.append(df.loc[row_number].iat[1])\n",
    "        final_e_list.append(df.loc[row_number].iat[3])\n",
    "\n",
    "        if df.loc[row_number].iat[3] >= 0.95:\n",
    "            print(\"Flung asteroid = #{}, starting semi-major axis = {}, starting eccentricity = {}...\" .format(len(final_a_list), df.loc[row_number].iat[0], round(df.loc[row_number].iat[2],3)))\n",
    "\n",
    "print(len(final_a_list))\n"
   ]
  },
  {
   "cell_type": "code",
   "execution_count": 81,
   "metadata": {},
   "outputs": [
    {
     "name": "stdout",
     "output_type": "stream",
     "text": [
      "24344\n"
     ]
    }
   ],
   "source": [
    "print(len(df))"
   ]
  },
  {
   "cell_type": "code",
   "execution_count": 71,
   "metadata": {},
   "outputs": [
    {
     "data": {
      "text/plain": [
       "<function matplotlib.pyplot.show(close=None, block=None)>"
      ]
     },
     "execution_count": 71,
     "metadata": {},
     "output_type": "execute_result"
    },
    {
     "data": {
      "image/png": "[encoded data removed]",
      "text/plain": [
       "<Figure size 432x288 with 1 Axes>"
      ]
     },
     "metadata": {
      "needs_background": "light"
     },
     "output_type": "display_data"
    }
   ],
   "source": [
    "plt.scatter(final_a_list, final_e_list, s=1)\n",
    "# plt.xlim(2.37, 2.63)\n",
    "# plt.ylim(0, 0.6)\n",
    "#plt.savefig('piccas/100000_4000_1_scatter')\n",
    "plt.show"
   ]
  },
  {
   "cell_type": "code",
   "execution_count": 61,
   "metadata": {},
   "outputs": [
    {
     "data": {
      "image/png": "[encoded data removed]",
      "text/plain": [
       "<Figure size 432x288 with 1 Axes>"
      ]
     },
     "metadata": {
      "needs_background": "light"
     },
     "output_type": "display_data"
    }
   ],
   "source": [
    "plt.hist(final_a_list,bins=150,range=(2.36,2.65))\n",
    "#plt.savefig('piccas/100000_4000_X_hist')\n",
    "plt.show()"
   ]
  },
  {
   "cell_type": "code",
   "execution_count": null,
   "metadata": {},
   "outputs": [],
   "source": [
    "# Nieuwe shit:\n",
    "# Save distance to mars for high ecc asteroids\n",
    "# Also inclination variance?\n",
    "# save orbital elements?"
   ]
  }
 ],
 "metadata": {
  "interpreter": {
   "hash": "916dbcbb3f70747c44a77c7bcd40155683ae19c65e1c03b4aa3499c5328201f1"
  },
  "kernelspec": {
   "display_name": "Python 3.8.10 64-bit",
   "language": "python",
   "name": "python3"
  },
  "language_info": {
   "codemirror_mode": {
    "name": "ipython",
    "version": 3
   },
   "file_extension": ".py",
   "mimetype": "text/x-python",
   "name": "python",
   "nbconvert_exporter": "python",
   "pygments_lexer": "ipython3",
   "version": "3.8.10"
  },
  "orig_nbformat": 4
 },
 "nbformat": 4,
 "nbformat_minor": 2
}
