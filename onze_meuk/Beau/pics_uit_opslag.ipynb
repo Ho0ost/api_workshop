{
 "cells": [
  {
   "cell_type": "code",
   "execution_count": 2,
   "metadata": {},
   "outputs": [],
   "source": [
    "import matplotlib.pyplot as plt\n",
    "import csv\n",
    "import pandas as pd"
   ]
  },
  {
   "cell_type": "code",
   "execution_count": 3,
   "metadata": {},
   "outputs": [
    {
     "name": "stdout",
     "output_type": "stream",
     "text": [
      "Flung asteroid = #17, starting and end semi-major axis = 2.5125, -113.9464, starting and end eccentricity = 0.2272, 1.0017\n",
      "Flung asteroid = #56, starting and end semi-major axis = 2.4919, -6.2508, starting and end eccentricity = 0.2559, 1.0271\n",
      "Flung asteroid = #209, starting and end semi-major axis = 2.5018, -26.3121, starting and end eccentricity = 0.1242, 1.007\n",
      "Flung asteroid = #222, starting and end semi-major axis = 2.5153, -5.6059, starting and end eccentricity = 0.2871, 1.0324\n",
      "Flung asteroid = #240, starting and end semi-major axis = 2.5256, -21.3649, starting and end eccentricity = 0.6536, 1.0081\n",
      "Flung asteroid = #307, starting and end semi-major axis = 2.5116, -11.2236, starting and end eccentricity = 0.1901, 1.0158\n",
      "Flung asteroid = #330, starting and end semi-major axis = 2.4766, -2.0316, starting and end eccentricity = 0.1705, 1.0615\n",
      "Flung asteroid = #334, starting and end semi-major axis = 2.4704, -75.2348, starting and end eccentricity = 0.4082, 1.0028\n",
      "Flung asteroid = #449, starting and end semi-major axis = 2.531, -14.0102, starting and end eccentricity = 0.1862, 1.1368\n",
      "Flung asteroid = #495, starting and end semi-major axis = 2.4684, -226.1478, starting and end eccentricity = 0.7784, 1.001\n",
      "Flung asteroid = #501, starting and end semi-major axis = 2.5061, -12.2153, starting and end eccentricity = 0.3272, 1.0132\n",
      "Flung asteroid = #675, starting and end semi-major axis = 2.5035, -1.1309, starting and end eccentricity = 0.1961, 1.1152\n",
      "Flung asteroid = #687, starting and end semi-major axis = 2.4746, -67.1532, starting and end eccentricity = 0.2081, 1.0034\n",
      "Flung asteroid = #746, starting and end semi-major axis = 2.4993, 109.8216, starting and end eccentricity = 0.154, 0.9554\n",
      "Flung asteroid = #759, starting and end semi-major axis = 2.4978, -10.3451, starting and end eccentricity = 0.1963, 1.018\n",
      "Flung asteroid = #761, starting and end semi-major axis = 2.4746, -11.051, starting and end eccentricity = 0.1904, 1.015\n",
      "Flung asteroid = #953, starting and end semi-major axis = 2.466, -42.0987, starting and end eccentricity = 0.306, 1.0043\n",
      "Flung asteroid = #1160, starting and end semi-major axis = 2.4925, -1.2131, starting and end eccentricity = 0.2999, 1.1047\n",
      "Flung asteroid = #1234, starting and end semi-major axis = 2.4562, -42.3208, starting and end eccentricity = 0.5619, 1.0036\n",
      "Flung asteroid = #1267, starting and end semi-major axis = 2.4822, -3.3176, starting and end eccentricity = 0.4205, 1.7954\n",
      "Flung asteroid = #1277, starting and end semi-major axis = 2.4861, -8.4092, starting and end eccentricity = 0.3457, 1.0218\n",
      "Flung asteroid = #1368, starting and end semi-major axis = 2.4916, -11.6347, starting and end eccentricity = 0.366, 1.0154\n",
      "Flung asteroid = #1435, starting and end semi-major axis = 2.4822, -12.0172, starting and end eccentricity = 0.4143, 1.0149\n",
      "Flung asteroid = #1452, starting and end semi-major axis = 2.4915, -10.2471, starting and end eccentricity = 0.2826, 1.0159\n",
      "1481\n"
     ]
    }
   ],
   "source": [
    "#col_list = [\"starting_a\", \"final_a\", \"starting_e\", \"final_e\", \"#asteroids\", \"simtime\"]\n",
    "df = pd.read_csv(\"opslag_asteroids.csv\") #, usecols = col_list)\n",
    "\n",
    "\n",
    "final_a_list = []\n",
    "final_e_list = []\n",
    "\n",
    "lengte_opslag = len(df)\n",
    "\n",
    "# welke simulatie zoeken we\n",
    "simtime = 1200003\n",
    "\n",
    "for row_number in range(lengte_opslag):\n",
    "    if df.loc[row_number][1] == simtime:\n",
    "        final_a_list.append(df.loc[row_number].iat[3])\n",
    "        final_e_list.append(df.loc[row_number].iat[5])\n",
    "\n",
    "        if df.loc[row_number].iat[5] >= 0.95:\n",
    "            print(\"Flung asteroid = #{}, starting and end semi-major axis = {}, {}, starting and end eccentricity = {}, {}\" .format(len(final_a_list), round(df.loc[row_number].iat[2],4), round(df.loc[row_number].iat[3],4), round(df.loc[row_number].iat[4],4),round(df.loc[row_number].iat[5],4)))\n",
    "\n",
    "print(len(final_a_list))\n"
   ]
  },
  {
   "cell_type": "code",
   "execution_count": 81,
   "metadata": {},
   "outputs": [
    {
     "name": "stdout",
     "output_type": "stream",
     "text": [
      "24344\n"
     ]
    }
   ],
   "source": [
    "print(len(df))"
   ]
  },
  {
   "cell_type": "code",
   "execution_count": 4,
   "metadata": {},
   "outputs": [
    {
     "data": {
      "text/plain": [
       "<function matplotlib.pyplot.show(close=None, block=None)>"
      ]
     },
     "execution_count": 4,
     "metadata": {},
     "output_type": "execute_result"
    },
    {
     "data": {
      "image/png": "[encoded data removed]",
      "text/plain": [
       "<Figure size 432x288 with 1 Axes>"
      ]
     },
     "metadata": {
      "needs_background": "light"
     },
     "output_type": "display_data"
    }
   ],
   "source": [
    "plt.scatter(final_a_list, final_e_list, s=1)\n",
    "plt.xlim(2.37, 2.63)\n",
    "# plt.ylim(0, 0.6)\n",
    "#plt.savefig('piccas/100000_4000_1_scatter')\n",
    "plt.show"
   ]
  },
  {
   "cell_type": "code",
   "execution_count": 5,
   "metadata": {},
   "outputs": [
    {
     "data": {
      "image/png": "[encoded data removed]",
      "text/plain": [
       "<Figure size 432x288 with 1 Axes>"
      ]
     },
     "metadata": {
      "needs_background": "light"
     },
     "output_type": "display_data"
    }
   ],
   "source": [
    "plt.hist(final_a_list,bins=150,range=(2.36,2.65))\n",
    "#plt.savefig('piccas/100000_4000_X_hist')\n",
    "plt.show()"
   ]
  },
  {
   "cell_type": "code",
   "execution_count": null,
   "metadata": {},
   "outputs": [],
   "source": [
    "# Nieuwe shit:\n",
    "# Save distance to mars for high ecc asteroids\n",
    "# Also inclination variance?\n",
    "# save orbital elements?"
   ]
  }
 ],
 "metadata": {
  "interpreter": {
   "hash": "916dbcbb3f70747c44a77c7bcd40155683ae19c65e1c03b4aa3499c5328201f1"
  },
  "kernelspec": {
   "display_name": "Python 3.8.10 64-bit",
   "language": "python",
   "name": "python3"
  },
  "language_info": {
   "codemirror_mode": {
    "name": "ipython",
    "version": 3
   },
   "file_extension": ".py",
   "mimetype": "text/x-python",
   "name": "python",
   "nbconvert_exporter": "python",
   "pygments_lexer": "ipython3",
   "version": "3.8.10"
  },
  "orig_nbformat": 4
 },
 "nbformat": 4,
 "nbformat_minor": 2
}
