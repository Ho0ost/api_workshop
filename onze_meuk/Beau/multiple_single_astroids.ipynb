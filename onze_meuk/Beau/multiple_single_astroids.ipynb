{
 "cells": [
  {
   "cell_type": "code",
   "execution_count": 1,
   "metadata": {},
   "outputs": [],
   "source": [
    "from IPython.display import clear_output\n",
    "import rebound\n",
    "import matplotlib.pyplot as plt\n",
    "import numpy as np\n",
    "import random\n",
    "import csv"
   ]
  },
  {
   "cell_type": "code",
   "execution_count": 2,
   "metadata": {},
   "outputs": [],
   "source": [
    "# sim = rebound.Simulation()\n",
    "# #sim.units = ('AU', 'yr', 'Msun')\n",
    "# sim.add(\"Sun\")\n",
    "# sim.add(\"Jupiter\")\n",
    "\n",
    "        "
   ]
  },
  {
   "cell_type": "code",
   "execution_count": 3,
   "metadata": {},
   "outputs": [
    {
     "name": "stdout",
     "output_type": "stream",
     "text": [
      "0.98\n"
     ]
    }
   ],
   "source": [
    "sim = rebound.Simulation()\n",
    "\n",
    "# add sun\n",
    "sim.add(m=1)\n",
    "# add jupiter\n",
    "sim.add(m=0.0009547919099366768, x=4.700873257350307, y=-1.638871658756794, z=-0.09837100227914734, vx=0.1391574941369194, vy=0.4348006080824522, vz=-0.004917193679728236)\n",
    "sim.move_to_com()\n",
    "sim.integrator = \"whfast\"\n",
    "sim.dt = .01\n",
    "simtime = 10\n",
    "\n",
    "exit_max_distance = 10\n",
    "a_list = []\n",
    "final_a_list = []\n",
    "starting_a_list = []\n",
    "rings = 50\n",
    "as_per_ring = 10\n",
    "for i in range (rings):\n",
    "\n",
    "    clear_output(wait=True)\n",
    "    print(i/rings)\n",
    "\n",
    "    for j in range (as_per_ring):\n",
    "    \n",
    "        # create astroid\n",
    "        mass = 1e-29\n",
    "        radius = 2.475+(0.001*i)\n",
    "        #radius = 2.502\n",
    "        \n",
    "        # res on 2.502\n",
    "\n",
    "        omega =(2*np.pi)/as_per_ring*j\n",
    "        ecc = 0.2*random.random()\n",
    "\n",
    "        # add astroid\n",
    "        sim.add(m=mass,a=radius,omega=omega, e=ecc)\n",
    "        starting_a_list.append(radius)\n",
    "\n",
    "        for years in np.arange(simtime*2*np.pi):\n",
    "\n",
    "            try:\n",
    "                sim.step()\n",
    "                #sim.integrate(years*2.*np.pi)  \n",
    "                #a_list.append(sim.particles[2].a)\n",
    "                # delete particle if it escaped the system\n",
    "            except rebound.Escape as error:\n",
    "                print(error)\n",
    "                for j in range(sim.N):\n",
    "                    p = sim.particles[j]\n",
    "                    d2 = p.x*p.x + p.y*p.y + p.z*p.z\n",
    "                    if d2>sim.exit_max_distance**2:\n",
    "                        index=j # cache index rather than remove here since our loop would go beyond end of particles array\n",
    "\n",
    "            #sim.integrate(years*2*np.pi)\n",
    "            a_list.append(sim.particles[2].a)\n",
    "        final_a_list.append(sim.particles[2].a)\n",
    "        sim.remove(2)\n",
    "\n",
    "with open('a_list.csv', 'w') as f1:\n",
    "      \n",
    "    # using csv.writer method from CSV package\n",
    "    write = csv.writer(f1)\n",
    "    write.writerow([\"a_list\"])\n",
    "    write.writerows([a_list])\n",
    "\n",
    "\n",
    "\n",
    "with open('final_a_list.csv', 'w') as f2:\n",
    "      \n",
    "    # using csv.writer method from CSV package\n",
    "    write = csv.writer(f2)\n",
    "    write.writerow([\"final_a_list\"])\n",
    "    write.writerows([final_a_list])\n"
   ]
  },
  {
   "cell_type": "code",
   "execution_count": 4,
   "metadata": {},
   "outputs": [
    {
     "data": {
      "image/png": "[encoded data removed]",
      "text/plain": [
       "<Figure size 360x360 with 1 Axes>"
      ]
     },
     "metadata": {
      "needs_background": "light"
     },
     "output_type": "display_data"
    }
   ],
   "source": [
    "fig, ax = rebound.OrbitPlot(sim) "
   ]
  },
  {
   "cell_type": "code",
   "execution_count": 5,
   "metadata": {},
   "outputs": [
    {
     "data": {
      "image/png": "[encoded data removed]",
      "text/plain": [
       "<Figure size 432x288 with 1 Axes>"
      ]
     },
     "metadata": {
      "needs_background": "light"
     },
     "output_type": "display_data"
    }
   ],
   "source": [
    "plt.hist(a_list,bins=100)#,range=(1,4))\n",
    "plt.show()"
   ]
  },
  {
   "cell_type": "code",
   "execution_count": 10,
   "metadata": {},
   "outputs": [
    {
     "data": {
      "image/png": "[encoded data removed]",
      "text/plain": [
       "<Figure size 432x288 with 1 Axes>"
      ]
     },
     "metadata": {
      "needs_background": "light"
     },
     "output_type": "display_data"
    }
   ],
   "source": [
    "plt.hist(starting_a_list,bins=100)#,range=(1,4))\n",
    "plt.show()"
   ]
  },
  {
   "cell_type": "code",
   "execution_count": 2,
   "metadata": {},
   "outputs": [
    {
     "ename": "NameError",
     "evalue": "name 'a_list' is not defined",
     "output_type": "error",
     "traceback": [
      "\u001b[0;31m---------------------------------------------------------------------------\u001b[0m",
      "\u001b[0;31mNameError\u001b[0m                                 Traceback (most recent call last)",
      "Input \u001b[0;32mIn [2]\u001b[0m, in \u001b[0;36m<module>\u001b[0;34m\u001b[0m\n\u001b[0;32m----> 1\u001b[0m \u001b[38;5;28mprint\u001b[39m((\u001b[38;5;28mlen\u001b[39m(\u001b[43ma_list\u001b[49m)))\n",
      "\u001b[0;31mNameError\u001b[0m: name 'a_list' is not defined"
     ]
    }
   ],
   "source": [
    "print((len(a_list)))"
   ]
  },
  {
   "cell_type": "code",
   "execution_count": null,
   "metadata": {},
   "outputs": [],
   "source": []
  }
 ],
 "metadata": {
  "interpreter": {
   "hash": "916dbcbb3f70747c44a77c7bcd40155683ae19c65e1c03b4aa3499c5328201f1"
  },
  "kernelspec": {
   "display_name": "Python 3.8.10 64-bit",
   "language": "python",
   "name": "python3"
  },
  "language_info": {
   "codemirror_mode": {
    "name": "ipython",
    "version": 3
   },
   "file_extension": ".py",
   "mimetype": "text/x-python",
   "name": "python",
   "nbconvert_exporter": "python",
   "pygments_lexer": "ipython3",
   "version": "3.8.10"
  },
  "orig_nbformat": 4
 },
 "nbformat": 4,
 "nbformat_minor": 2
}
